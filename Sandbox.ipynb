{
 "cells": [
  {
   "cell_type": "code",
   "execution_count": 1,
   "id": "d477fa43",
   "metadata": {},
   "outputs": [],
   "source": [
    "from collections import namedtuple\n",
    "from decimal import Decimal\n",
    "import inspect\n",
    "from pathlib import Path\n",
    "\n",
    "import pandas as pd\n",
    "\n",
    "#import arrow\n",
    "\n",
    "from django.contrib.auth import get_user_model\n",
    "from django.db import connection, connections, models, reset_queries\n",
    "\n",
    "\n",
    "def show_class(class_):\n",
    "    for f in class_._meta.fields:\n",
    "        print(f.name)\n",
    "\n",
    "\n",
    "def show_obj(obj):\n",
    "    for f in obj._meta.model._meta.fields:\n",
    "        print('{} --> {}'.format(f.name, getattr(obj, f.name)))\n",
    "        \n",
    "\n",
    "def query_count():\n",
    "    count = sum(len(c.queries) for c in connections.all())\n",
    "    reset_queries()\n",
    "    return count\n",
    "\n",
    "def show_func_code(f):\n",
    "    print(inspect.getsource(f))\n",
    "\n",
    "%load_ext autoreload\n",
    "%autoreload 2"
   ]
  },
  {
   "cell_type": "code",
   "execution_count": 4,
   "id": "37523719",
   "metadata": {},
   "outputs": [],
   "source": [
    "food_df = pd.DataFrame.from_records(Foods.objects.all().values())\n",
    "food_group_df = pd.DataFrame.from_records(FoodGroup.objects.all().values())\n",
    "food_type_df = pd.DataFrame.from_records(FoodType.objects.all().values())\n",
    "food_notes_df = pd.DataFrame.from_records(FoodNotes.objects.all().values())\n",
    "\n",
    "ing_df = pd.DataFrame.from_records(Ingredients.objects.all().values())\n",
    "srv_df = pd.DataFrame.from_records(Servings.objects.all().values())\n",
    "\n",
    "macros_df = pd.DataFrame.from_records(Macros.objects.all().values())\n"
   ]
  },
  {
   "cell_type": "markdown",
   "id": "72ba0bf2",
   "metadata": {},
   "source": [
    "food_df.to_csv(data_dir / 'food.csv', index=False)\n",
    "food_group_df.to_csv(data_dir / 'food_group.csv', index=False)\n",
    "food_type_df.to_csv(data_dir / 'food_type.csv', index=False)\n",
    "food_notes_df.to_csv(data_dir / 'food_notes.csv', index=False)\n",
    "ing_df.to_csv(data_dir / 'ing.csv', index=False)\n",
    "srv_df.to_csv(data_dir / 'srv.csv', index=False)\n",
    "macros_df.to_csv(data_dir / 'macros.csv', index=False)\n"
   ]
  },
  {
   "cell_type": "code",
   "execution_count": 3,
   "id": "8241fe96",
   "metadata": {},
   "outputs": [],
   "source": [
    "food_df = pd.read_csv(Path.home() / 'data/food.csv')\n",
    "food_group_df = pd.read_csv(Path.home() / 'data/food_group.csv')\n",
    "food_type_df = pd.read_csv(Path.home() / 'data/food_type.csv')\n",
    "#food_notes_df = pd.read_csv(Path.home() / 'data/food_notes.csv')\n",
    "ing_df = pd.read_csv(Path.home() / 'data/ing.csv')\n",
    "srv_df = pd.read_csv(Path.home() / 'data/srv.csv')\n",
    "#macros_df = pd.read_csv(Path.home() / 'data/macros.csv')\n",
    "\n",
    "\n"
   ]
  },
  {
   "cell_type": "code",
   "execution_count": 4,
   "id": "cf63c51f",
   "metadata": {},
   "outputs": [],
   "source": [
    "usda = MacroUser.objects.get(id=2)\n",
    "su_paul = MacroUser.objects.get(id=1)\n",
    "\n",
    "food_df.loc[food_df.user_id == 1, 'user_id'] = usda.id\n",
    "food_df.loc[food_df.user_id == 4, 'user_id'] = su_paul.id\n"
   ]
  },
  {
   "cell_type": "code",
   "execution_count": 5,
   "id": "4c675a94",
   "metadata": {},
   "outputs": [
    {
     "data": {
      "text/html": [
       "<div>\n",
       "<style scoped>\n",
       "    .dataframe tbody tr th:only-of-type {\n",
       "        vertical-align: middle;\n",
       "    }\n",
       "\n",
       "    .dataframe tbody tr th {\n",
       "        vertical-align: top;\n",
       "    }\n",
       "\n",
       "    .dataframe thead th {\n",
       "        text-align: right;\n",
       "    }\n",
       "</style>\n",
       "<table border=\"1\" class=\"dataframe\">\n",
       "  <thead>\n",
       "    <tr style=\"text-align: right;\">\n",
       "      <th></th>\n",
       "      <th>id</th>\n",
       "      <th>name</th>\n",
       "      <th>cals_per_gram</th>\n",
       "      <th>fat_per_gram</th>\n",
       "      <th>carbs_per_gram</th>\n",
       "      <th>protein_per_gram</th>\n",
       "      <th>sugar_per_gram</th>\n",
       "      <th>date</th>\n",
       "      <th>food_type_id</th>\n",
       "      <th>food_group_id</th>\n",
       "      <th>user_id</th>\n",
       "    </tr>\n",
       "  </thead>\n",
       "  <tbody>\n",
       "    <tr>\n",
       "      <th>0</th>\n",
       "      <td>1</td>\n",
       "      <td>Butter, salted</td>\n",
       "      <td>7.17</td>\n",
       "      <td>7.2999</td>\n",
       "      <td>0.0024</td>\n",
       "      <td>0.0340</td>\n",
       "      <td>0.0024</td>\n",
       "      <td>2022-03-27 13:15:51.408017</td>\n",
       "      <td>1</td>\n",
       "      <td>1</td>\n",
       "      <td>1</td>\n",
       "    </tr>\n",
       "    <tr>\n",
       "      <th>1</th>\n",
       "      <td>2</td>\n",
       "      <td>Butter, whipped, with salt</td>\n",
       "      <td>7.18</td>\n",
       "      <td>7.0470</td>\n",
       "      <td>0.1148</td>\n",
       "      <td>0.0196</td>\n",
       "      <td>0.0024</td>\n",
       "      <td>2022-03-27 13:15:51.450273</td>\n",
       "      <td>1</td>\n",
       "      <td>1</td>\n",
       "      <td>1</td>\n",
       "    </tr>\n",
       "  </tbody>\n",
       "</table>\n",
       "</div>"
      ],
      "text/plain": [
       "   id                        name  cals_per_gram  fat_per_gram  \\\n",
       "0   1              Butter, salted           7.17        7.2999   \n",
       "1   2  Butter, whipped, with salt           7.18        7.0470   \n",
       "\n",
       "   carbs_per_gram  protein_per_gram  sugar_per_gram  \\\n",
       "0          0.0024            0.0340          0.0024   \n",
       "1          0.1148            0.0196          0.0024   \n",
       "\n",
       "                         date  food_type_id  food_group_id  user_id  \n",
       "0  2022-03-27 13:15:51.408017             1              1        1  \n",
       "1  2022-03-27 13:15:51.450273             1              1        1  "
      ]
     },
     "execution_count": 5,
     "metadata": {},
     "output_type": "execute_result"
    }
   ],
   "source": [
    "food_df.head(2)"
   ]
  },
  {
   "cell_type": "code",
   "execution_count": 16,
   "id": "ce262cb6",
   "metadata": {},
   "outputs": [
    {
     "data": {
      "text/html": [
       "<div>\n",
       "<style scoped>\n",
       "    .dataframe tbody tr th:only-of-type {\n",
       "        vertical-align: middle;\n",
       "    }\n",
       "\n",
       "    .dataframe tbody tr th {\n",
       "        vertical-align: top;\n",
       "    }\n",
       "\n",
       "    .dataframe thead th {\n",
       "        text-align: right;\n",
       "    }\n",
       "</style>\n",
       "<table border=\"1\" class=\"dataframe\">\n",
       "  <thead>\n",
       "    <tr style=\"text-align: right;\">\n",
       "      <th></th>\n",
       "      <th>id</th>\n",
       "      <th>name</th>\n",
       "      <th>cals_per_gram</th>\n",
       "      <th>fat_per_gram</th>\n",
       "      <th>carbs_per_gram</th>\n",
       "      <th>protein_per_gram</th>\n",
       "      <th>sugar_per_gram</th>\n",
       "      <th>date</th>\n",
       "      <th>food_type_id</th>\n",
       "      <th>food_group_id</th>\n",
       "      <th>user_id</th>\n",
       "    </tr>\n",
       "  </thead>\n",
       "  <tbody>\n",
       "    <tr>\n",
       "      <th>0</th>\n",
       "      <td>1</td>\n",
       "      <td>Butter, salted</td>\n",
       "      <td>7.17</td>\n",
       "      <td>7.2999</td>\n",
       "      <td>0.0024</td>\n",
       "      <td>0.034</td>\n",
       "      <td>0.0024</td>\n",
       "      <td>2022-03-27 13:15:51.408017</td>\n",
       "      <td>1</td>\n",
       "      <td>8</td>\n",
       "      <td>1</td>\n",
       "    </tr>\n",
       "  </tbody>\n",
       "</table>\n",
       "</div>"
      ],
      "text/plain": [
       "   id            name  cals_per_gram  fat_per_gram  carbs_per_gram  \\\n",
       "0   1  Butter, salted           7.17        7.2999          0.0024   \n",
       "\n",
       "   protein_per_gram  sugar_per_gram                        date  food_type_id  \\\n",
       "0             0.034          0.0024  2022-03-27 13:15:51.408017             1   \n",
       "\n",
       "   food_group_id  user_id  \n",
       "0              8        1  "
      ]
     },
     "execution_count": 16,
     "metadata": {},
     "output_type": "execute_result"
    }
   ],
   "source": [
    "m_f_fd_gf = food_df.merge(food_group_df[['id', 'rank']], how='inner', left_on='food_group_id', right_on='id')\n",
    "m_f_fd_gf = m_f_fd_gf.rename(columns={\"id_x\": \"id\", \"id_y\": \"fg_id\", 'rank': 'fg_rank'})\n",
    "\n",
    "m_f_fd_gf['food_group_id'] = m_f_fd_gf['fg_rank']\n",
    "\n",
    "food_df = m_f_fd_gf[[c for c in m_f_fd_gf.columns if c not in ('fg_id', 'fg_rank',)]]\n",
    "\n",
    "\n"
   ]
  },
  {
   "cell_type": "code",
   "execution_count": 29,
   "id": "33c8bb76",
   "metadata": {},
   "outputs": [],
   "source": [
    "food_group_df.columns = ['old_id', 'name', 'fg_rank']\n",
    "for old_id, name, rank in food_group_df.itertuples(index=False):\n",
    "        \n",
    "        fg = FoodGroup.objects.get(id=rank)\n",
    "        assert fg.name == name\n",
    "        assert fg.id == rank\n",
    "        "
   ]
  },
  {
   "cell_type": "code",
   "execution_count": 44,
   "id": "70babe1c",
   "metadata": {},
   "outputs": [
    {
     "name": "stdout",
     "output_type": "stream",
     "text": [
      "done\n"
     ]
    }
   ],
   "source": [
    "for row in food_df[1:].itertuples(index=False):\n",
    "    id_, name, cals, fat, carbs, prot, sugar, date, food_type_id, food_group_id, user_id = row\n",
    "    food_type = FoodType.objects.get(id=food_type_id)\n",
    "    food_group = FoodGroup.objects.get(id=food_group_id)\n",
    "    user = MacroUser.objects.get(id=user_id)\n",
    "    Foods.objects.create(\n",
    "        name=name, cals_per_gram=cals, fat_per_gram=fat, carbs_per_gram=carbs, sugar_per_gram=sugar,\n",
    "        food_type=food_type, food_group=food_group, user=user\n",
    "    )\n",
    "    \n",
    "print('done')"
   ]
  },
  {
   "cell_type": "code",
   "execution_count": 3,
   "id": "b7b2069e",
   "metadata": {},
   "outputs": [],
   "source": [
    "tmp_user = MacroUser.objects.create_user(email='e@e.com', password=\"password\")"
   ]
  },
  {
   "cell_type": "code",
   "execution_count": 6,
   "id": "17f763d1",
   "metadata": {},
   "outputs": [
    {
     "data": {
      "text/plain": [
       "((<MacroUser: paul@email.com>, 1), (<MacroUser: usda@email.com>, 2))"
      ]
     },
     "execution_count": 6,
     "metadata": {},
     "output_type": "execute_result"
    }
   ],
   "source": [
    "su_paul = MacroUser.objects.get(email='paul@email.com')\n",
    "usda = MacroUser.objects.get(email='usda@email.com')\n",
    "(su_paul, su_paul.id,), (usda, usda.id)"
   ]
  },
  {
   "cell_type": "code",
   "execution_count": 8,
   "id": "34c99a78",
   "metadata": {},
   "outputs": [
    {
     "data": {
      "text/plain": [
       "4988"
      ]
     },
     "execution_count": 8,
     "metadata": {},
     "output_type": "execute_result"
    }
   ],
   "source": [
    "Foods.objects.filter(user=su_paul).update(user=tmp_user)"
   ]
  },
  {
   "cell_type": "code",
   "execution_count": 16,
   "id": "a133e460",
   "metadata": {},
   "outputs": [
    {
     "data": {
      "text/plain": [
       "(1,\n",
       " {'admin.LogEntry': 0,\n",
       "  'accounts.MacroUser_groups': 0,\n",
       "  'accounts.MacroUser_user_permissions': 0,\n",
       "  'meals.Macros': 0,\n",
       "  'accounts.MacroUser': 1})"
      ]
     },
     "execution_count": 16,
     "metadata": {},
     "output_type": "execute_result"
    }
   ],
   "source": [
    "tmp_user.delete()"
   ]
  },
  {
   "cell_type": "code",
   "execution_count": 63,
   "id": "63ae0e19",
   "metadata": {},
   "outputs": [
    {
     "name": "stdout",
     "output_type": "stream",
     "text": [
      "1 28 My Foods 1\n",
      "2 26 My Meals 2\n",
      "3 27 My Recipes 3\n",
      "4 4 Fats and Oils 4\n",
      "5 11 Veggies 5\n",
      "6 9 Fruits 6\n",
      "7 5 Meat 7\n",
      "8 1 Dairy and Eggs 8\n",
      "9 20 Grains and Pasta 9\n",
      "10 12 Nuts and Seeds 10\n",
      "11 15 Fish and Seafood 11\n"
     ]
    }
   ],
   "source": [
    "SORT BY OLD ID?\n",
    "\n",
    "food_group_dict = {}\n",
    "for idx, df_row in enumerate(food_group_df.itertuples(index=False)):\n",
    "    new_id = idx + 1\n",
    "    old_id, name, rank = df_row\n",
    "    print(new_id, old_id, name, rank)\n",
    "    fg = !FoodGroup.objects.create(name=name, rank=rank)\n",
    "    if fg.id != new_id:\n",
    "        fg.delete()\n",
    "        raise Exception('reset fg pk increment - id <> new_id')\n",
    "    food_df.loc[food_df.food_group_id == old_id, 'food_group_id'] = fg.id\n",
    "\n",
    "    "
   ]
  },
  {
   "cell_type": "code",
   "execution_count": 61,
   "id": "8c4a5123",
   "metadata": {},
   "outputs": [
    {
     "data": {
      "text/plain": [
       "[[28, 'My Foods', 1],\n",
       " [26, 'My Meals', 2],\n",
       " [27, 'My Recipes', 3],\n",
       " [4, 'Fats and Oils', 4],\n",
       " [11, 'Veggies', 5],\n",
       " [9, 'Fruits', 6],\n",
       " [5, 'Meat', 7],\n",
       " [1, 'Dairy and Eggs', 8],\n",
       " [20, 'Grains and Pasta', 9],\n",
       " [12, 'Nuts and Seeds', 10],\n",
       " [15, 'Fish and Seafood', 11]]"
      ]
     },
     "execution_count": 61,
     "metadata": {},
     "output_type": "execute_result"
    }
   ],
   "source": [
    "[[i, n, g] for i, n, g in food_group_df.itertuples(index=False)]"
   ]
  },
  {
   "cell_type": "code",
   "execution_count": 10,
   "id": "d44f21ba",
   "metadata": {},
   "outputs": [
    {
     "name": "stderr",
     "output_type": "stream",
     "text": [
      "/home/vagrant/site/envs/macrobatics/lib/python3.7/site-packages/django/db/models/base.py:316: RuntimeWarning: Model 'accounts.macrouser_groups' was already registered. Reloading models is not advised as it can lead to inconsistencies, most notably with related models.\n",
      "  new_class._meta.apps.register_model(new_class._meta.app_label, new_class)\n",
      "/home/vagrant/site/envs/macrobatics/lib/python3.7/site-packages/django/db/models/base.py:316: RuntimeWarning: Model 'accounts.macrouser_user_permissions' was already registered. Reloading models is not advised as it can lead to inconsistencies, most notably with related models.\n",
      "  new_class._meta.apps.register_model(new_class._meta.app_label, new_class)\n",
      "/home/vagrant/site/envs/macrobatics/lib/python3.7/site-packages/django/db/models/base.py:316: RuntimeWarning: Model 'accounts.macrouser' was already registered. Reloading models is not advised as it can lead to inconsistencies, most notably with related models.\n",
      "  new_class._meta.apps.register_model(new_class._meta.app_label, new_class)\n"
     ]
    }
   ],
   "source": [
    "su_paul = MacroUser.objects.create_superuser(\"paul@email.com\", \"password\")\n",
    "usda = MacroUser.objects.create_superuser(\"usda@email.com\", \"password\")\n"
   ]
  },
  {
   "cell_type": "code",
   "execution_count": 12,
   "id": "20c4297c",
   "metadata": {},
   "outputs": [
    {
     "data": {
      "text/plain": [
       "1"
      ]
     },
     "execution_count": 12,
     "metadata": {},
     "output_type": "execute_result"
    }
   ],
   "source": [
    "food_df.loc[food_df.user_id == 4]"
   ]
  },
  {
   "cell_type": "code",
   "execution_count": 15,
   "id": "7589590f",
   "metadata": {},
   "outputs": [
    {
     "data": {
      "text/plain": [
       "(1, 2)"
      ]
     },
     "execution_count": 15,
     "metadata": {},
     "output_type": "execute_result"
    }
   ],
   "source": [
    "su_paul.id, usda.id\n"
   ]
  },
  {
   "cell_type": "code",
   "execution_count": null,
   "id": "148ded5f",
   "metadata": {},
   "outputs": [],
   "source": [
    "foodInterface = namedtuple('foodInterface', 'cals, fat, carbs, protein')\n",
    "FoodMacros = namedtuple(\"FoodMacros\", \"cals, fat, carbs, sugar, protein\")\n",
    "FoodMacrosPerGram = namedtuple(\"FoodMacrosPerGram\", \"cals_per_gram, fat_per_gram, carbs_per_gram, sugar_per_gram, protein_per_gram\")\n",
    "\n",
    "class FoodCombo:\n",
    "    def __init__(self, food, grams=None):\n",
    "        self.food = food\n",
    "        if grams:\n",
    "            self.grams = grams\n",
    "        else:\n",
    "            self.grams = food.grams\n",
    "            \n",
    "        self.cals = food.cals\n",
    "        self.fat = food.fat\n",
    "        self.carbs = food.carbs\n",
    "        self.sugar = food.sugar\n",
    "        self.protein = food.protein\n",
    "        \n",
    "    @property\n",
    "    def macros(self):\n",
    "        cals = self.cals\n",
    "        fat = self.fat / 9\n",
    "        carbs = self.carbs / 4\n",
    "        sugar = self.sugar / 4\n",
    "        protein = self.protein / 4\n",
    "        return FoodMacros(cals=cals, fat=fat, carbs=carbs, sugar=sugar, protein=protein)\n",
    "\n",
    "    @property\n",
    "    def macros_per_gram(self):\n",
    "        cals_per_gram = self.cals / self.grams\n",
    "        fat_per_gram = self.fat / self.grams\n",
    "        carbs_per_gram = self.carbs / self.grams\n",
    "        sugar_per_gram = self.sugar / self.grams\n",
    "        protein_per_gram = self.protein / self.grams\n",
    "        return FoodMacrosPerGram(\n",
    "            cals_per_gram=cals_per_gram,\n",
    "            fat_per_gram=fat_per_gram,\n",
    "            carbs_per_gram=carbs_per_gram,\n",
    "            sugar_per_gram=sugar_per_gram,\n",
    "            protein_per_gram=protein_per_gram\n",
    "        )\n",
    "\n",
    "    def __add__(self, otherFoodCombo):\n",
    "        thisFood = self.food\n",
    "        otherFood = otherFoodCombo.food\n",
    "        total_grams = self.grams + otherFoodCombo.grams\n",
    "        cals = thisFood.cals + otherFood.cals\n",
    "        fat = thisFood.fat + otherFood.fat\n",
    "        carbs = thisFood.carbs + otherFood.carbs\n",
    "        sugar = thisFood.sugar + otherFood.sugar\n",
    "        protein = thisFood.protein + otherFood.protein\n",
    "        print(cals, fat, carbs, sugar, protein)\n",
    "        new_food = FoodMacros(cals=cals, fat=fat, carbs=carbs, sugar=sugar, protein=protein)\n",
    "        new_food_combo = FoodCombo(new_food, grams=total_grams)\n",
    "        return new_food_combo \n",
    "    \n",
    "    def __repr__(self):\n",
    "        food = self.food\n",
    "        return f\"Cals: {food.cals}, Fat: {food.fat}, Carbs: {food.carbs}, Sugar: {self.sugar}, Protein: {food.protein}\""
   ]
  }
 ],
 "metadata": {
  "kernelspec": {
   "display_name": "Django Shell-Plus",
   "language": "python",
   "name": "django_extensions"
  },
  "language_info": {
   "codemirror_mode": {
    "name": "ipython",
    "version": 3
   },
   "file_extension": ".py",
   "mimetype": "text/x-python",
   "name": "python",
   "nbconvert_exporter": "python",
   "pygments_lexer": "ipython3",
   "version": "3.7.16"
  }
 },
 "nbformat": 4,
 "nbformat_minor": 5
}
