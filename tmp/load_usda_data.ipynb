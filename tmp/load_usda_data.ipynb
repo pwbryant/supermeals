{
 "cells": [
  {
   "cell_type": "code",
   "execution_count": 2,
   "metadata": {},
   "outputs": [
    {
     "ename": "ImportError",
     "evalue": "attempted relative import with no known parent package",
     "output_type": "error",
     "traceback": [
      "\u001b[0;31m---------------------------------------------------------------------------\u001b[0m",
      "\u001b[0;31mImportError\u001b[0m                               Traceback (most recent call last)",
      "\u001b[0;32m/tmp/ipykernel_31496/1227191491.py\u001b[0m in \u001b[0;36m<module>\u001b[0;34m\u001b[0m\n\u001b[0;32m----> 1\u001b[0;31m \u001b[0;32mfrom\u001b[0m \u001b[0;34m.\u001b[0m\u001b[0;34m.\u001b[0m\u001b[0mmeals\u001b[0m\u001b[0;34m.\u001b[0m\u001b[0mmodels\u001b[0m \u001b[0;32mimport\u001b[0m \u001b[0mFoods\u001b[0m\u001b[0;34m\u001b[0m\u001b[0;34m\u001b[0m\u001b[0m\n\u001b[0m\u001b[1;32m      2\u001b[0m \u001b[0;32mimport\u001b[0m \u001b[0mpandas\u001b[0m \u001b[0;32mas\u001b[0m \u001b[0mpd\u001b[0m\u001b[0;34m\u001b[0m\u001b[0;34m\u001b[0m\u001b[0m\n",
      "\u001b[0;31mImportError\u001b[0m: attempted relative import with no known parent package"
     ]
    }
   ],
   "source": [
    "from ..meals.models import Foods\n",
    "import pandas as pd\n"
   ]
  },
  {
   "cell_type": "markdown",
   "metadata": {},
   "source": [
    "### [f.name for f in Foods._meta.get_fields()]\n"
   ]
  },
  {
   "cell_type": "code",
   "execution_count": 19,
   "metadata": {},
   "outputs": [],
   "source": [
    "df = pd.read_csv('tools/usda_db.csv')\n"
   ]
  },
  {
   "cell_type": "code",
   "execution_count": 31,
   "metadata": {},
   "outputs": [
    {
     "data": {
      "text/plain": [
       "0       Foods object\n",
       "1       Foods object\n",
       "2       Foods object\n",
       "3       Foods object\n",
       "4       Foods object\n",
       "5       Foods object\n",
       "6       Foods object\n",
       "7       Foods object\n",
       "8       Foods object\n",
       "9       Foods object\n",
       "10      Foods object\n",
       "11      Foods object\n",
       "12      Foods object\n",
       "13      Foods object\n",
       "14      Foods object\n",
       "15      Foods object\n",
       "16      Foods object\n",
       "17      Foods object\n",
       "18      Foods object\n",
       "19      Foods object\n",
       "20      Foods object\n",
       "21      Foods object\n",
       "22      Foods object\n",
       "23      Foods object\n",
       "24      Foods object\n",
       "25      Foods object\n",
       "26      Foods object\n",
       "27      Foods object\n",
       "28      Foods object\n",
       "29      Foods object\n",
       "            ...     \n",
       "8759    Foods object\n",
       "8760    Foods object\n",
       "8761    Foods object\n",
       "8762    Foods object\n",
       "8763    Foods object\n",
       "8764    Foods object\n",
       "8765    Foods object\n",
       "8766    Foods object\n",
       "8767    Foods object\n",
       "8768    Foods object\n",
       "8769    Foods object\n",
       "8770    Foods object\n",
       "8771    Foods object\n",
       "8772    Foods object\n",
       "8773    Foods object\n",
       "8774    Foods object\n",
       "8775    Foods object\n",
       "8776    Foods object\n",
       "8777    Foods object\n",
       "8778    Foods object\n",
       "8779    Foods object\n",
       "8780    Foods object\n",
       "8781    Foods object\n",
       "8782    Foods object\n",
       "8783    Foods object\n",
       "8784    Foods object\n",
       "8785    Foods object\n",
       "8786    Foods object\n",
       "8787    Foods object\n",
       "8788    Foods object\n",
       "Length: 8789, dtype: object"
      ]
     },
     "execution_count": 31,
     "metadata": {},
     "output_type": "execute_result"
    }
   ],
   "source": [
    "df.apply(lambda row: Foods.objects.create(**dict(row)),axis=1)"
   ]
  },
  {
   "cell_type": "code",
   "execution_count": 35,
   "metadata": {},
   "outputs": [
    {
     "data": {
      "text/plain": [
       "'Beef, chuck, shoulder clod, top blade, steak, separable lean and fat, trimmed to 0\" fat, select, raw'"
      ]
     },
     "execution_count": 35,
     "metadata": {},
     "output_type": "execute_result"
    }
   ],
   "source": [
    "Foods.objects.all()[900].name"
   ]
  },
  {
   "cell_type": "code",
   "execution_count": null,
   "metadata": {},
   "outputs": [],
   "source": []
  }
 ],
 "metadata": {
  "kernelspec": {
   "display_name": "Python 3 (ipykernel)",
   "language": "python",
   "name": "python3"
  },
  "language_info": {
   "codemirror_mode": {
    "name": "ipython",
    "version": 3
   },
   "file_extension": ".py",
   "mimetype": "text/x-python",
   "name": "python",
   "nbconvert_exporter": "python",
   "pygments_lexer": "ipython3",
   "version": "3.7.16"
  }
 },
 "nbformat": 4,
 "nbformat_minor": 2
}
